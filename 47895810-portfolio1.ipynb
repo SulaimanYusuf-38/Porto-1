{
 "cells": [
  {
   "cell_type": "markdown",
   "id": "skHfgkqlqndO",
   "metadata": {
    "id": "skHfgkqlqndO"
   },
   "source": [
    "## Analysis of a car sell record Dataset\n",
    "\n",
    "We have been provided with a car sell record dataset. In this dataset, we have thounds of car sell records.\n",
    "\n",
    "The structure of this dataset is represented in the header shown below.\n",
    "\n",
    "name\n",
    "year\n",
    "selling_price\n",
    "km_driven\n",
    "fuel\n",
    "seller_type\n",
    "transmission\n",
    "Owner\n",
    "\n",
    "| name | year | selling_price | km_driven| fuel | seller_type | transmission | Owner |\n",
    "\n",
    "    | ---- | ---- | ---- | ---- | ---- | ---- | ---- | ---- |   \n",
    "    \n",
    "#### Description of Fields\n",
    "\n",
    "* __name__ - detail car type of the sold car\n",
    "* __year__ - Year of the car when it was bought\n",
    "* __selling_price__ - Price at which the car is being sold\n",
    "* __km_driven__ - Number of Kilometres the car is driven\n",
    "* __fuel__ - Fuel type of car (petrol / diesel / CNG / LPG / electric)\n",
    "* __seller_type__ - Tells if a Seller is Individual or a Dealer\n",
    "* __transmission__ - Gear transmission of the car (Automatic/Manual)\n",
    "* __owner__ - Number of previous owners of the car.\n",
    "\n",
    "There are four questions to explore with the data as shown below.\n"
   ]
  },
  {
   "cell_type": "code",
   "execution_count": 2,
   "id": "zNTpU9ToS8QK",
   "metadata": {
    "id": "zNTpU9ToS8QK"
   },
   "outputs": [],
   "source": [
    "your_name = \"Sulaiman Yusuf Zakaria\"\n",
    "your_student_id = \"47895810\""
   ]
  },
  {
   "cell_type": "code",
   "execution_count": 3,
   "id": "giZ_rSg8ezK6",
   "metadata": {
    "colab": {
     "base_uri": "https://localhost:8080/"
    },
    "executionInfo": {
     "elapsed": 100002,
     "status": "ok",
     "timestamp": 1710290642987,
     "user": {
      "displayName": "Yuzhe Tian",
      "userId": "05567834028890049819"
     },
     "user_tz": -660
    },
    "id": "giZ_rSg8ezK6",
    "outputId": "5306c39c-4547-4a3c-a25a-b9bbef85cb8d"
   },
   "outputs": [],
   "source": [
    "# libraries you might need\n",
    "import pandas as pd\n",
    "import numpy as np\n",
    "import matplotlib.pyplot as plt\n",
    "%matplotlib inline\n",
    "\n",
    "# if you are using google colab with google drive, you could read files from google drive with the following codes\n",
    "# from google.colab import drive\n",
    "# drive.mount('/content/drive')"
   ]
  },
  {
   "cell_type": "code",
   "execution_count": 4,
   "id": "d72fd7e7-1414-4adf-8d7d-5e134ee0ee86",
   "metadata": {},
   "outputs": [
    {
     "data": {
      "text/html": [
       "<div>\n",
       "<style scoped>\n",
       "    .dataframe tbody tr th:only-of-type {\n",
       "        vertical-align: middle;\n",
       "    }\n",
       "\n",
       "    .dataframe tbody tr th {\n",
       "        vertical-align: top;\n",
       "    }\n",
       "\n",
       "    .dataframe thead th {\n",
       "        text-align: right;\n",
       "    }\n",
       "</style>\n",
       "<table border=\"1\" class=\"dataframe\">\n",
       "  <thead>\n",
       "    <tr style=\"text-align: right;\">\n",
       "      <th></th>\n",
       "      <th>Unnamed: 0</th>\n",
       "      <th>name</th>\n",
       "      <th>year</th>\n",
       "      <th>selling_price</th>\n",
       "      <th>km_driven</th>\n",
       "      <th>fuel</th>\n",
       "      <th>seller_type</th>\n",
       "      <th>transmission</th>\n",
       "      <th>owner</th>\n",
       "    </tr>\n",
       "  </thead>\n",
       "  <tbody>\n",
       "    <tr>\n",
       "      <th>0</th>\n",
       "      <td>0</td>\n",
       "      <td>Maruti 800 AC</td>\n",
       "      <td>2007.0</td>\n",
       "      <td>60000</td>\n",
       "      <td>70000</td>\n",
       "      <td>Petrol</td>\n",
       "      <td>Individual</td>\n",
       "      <td>Manual</td>\n",
       "      <td>First Owner</td>\n",
       "    </tr>\n",
       "    <tr>\n",
       "      <th>1</th>\n",
       "      <td>1</td>\n",
       "      <td>Maruti Wagon R LXI Minor</td>\n",
       "      <td>2007.0</td>\n",
       "      <td>135000</td>\n",
       "      <td>50000</td>\n",
       "      <td>Petrol</td>\n",
       "      <td>Individual</td>\n",
       "      <td>Manual</td>\n",
       "      <td>First Owner</td>\n",
       "    </tr>\n",
       "    <tr>\n",
       "      <th>2</th>\n",
       "      <td>2</td>\n",
       "      <td>Hyundai Verna 1.6 SX</td>\n",
       "      <td>2012.0</td>\n",
       "      <td>600000</td>\n",
       "      <td>100000</td>\n",
       "      <td>Diesel</td>\n",
       "      <td>Individual</td>\n",
       "      <td>Manual</td>\n",
       "      <td>First Owner</td>\n",
       "    </tr>\n",
       "    <tr>\n",
       "      <th>3</th>\n",
       "      <td>3</td>\n",
       "      <td>Datsun RediGO T Option</td>\n",
       "      <td>2017.0</td>\n",
       "      <td>250000</td>\n",
       "      <td>46000</td>\n",
       "      <td>Petrol</td>\n",
       "      <td>Individual</td>\n",
       "      <td>Manual</td>\n",
       "      <td>First Owner</td>\n",
       "    </tr>\n",
       "    <tr>\n",
       "      <th>4</th>\n",
       "      <td>4</td>\n",
       "      <td>Honda Amaze VX i-DTEC</td>\n",
       "      <td>2014.0</td>\n",
       "      <td>450000</td>\n",
       "      <td>141000</td>\n",
       "      <td>Diesel</td>\n",
       "      <td>Individual</td>\n",
       "      <td>Manual</td>\n",
       "      <td>Second Owner</td>\n",
       "    </tr>\n",
       "  </tbody>\n",
       "</table>\n",
       "</div>"
      ],
      "text/plain": [
       "   Unnamed: 0                      name    year  selling_price  km_driven  \\\n",
       "0           0             Maruti 800 AC  2007.0          60000      70000   \n",
       "1           1  Maruti Wagon R LXI Minor  2007.0         135000      50000   \n",
       "2           2      Hyundai Verna 1.6 SX  2012.0         600000     100000   \n",
       "3           3    Datsun RediGO T Option  2017.0         250000      46000   \n",
       "4           4     Honda Amaze VX i-DTEC  2014.0         450000     141000   \n",
       "\n",
       "     fuel seller_type transmission         owner  \n",
       "0  Petrol  Individual       Manual   First Owner  \n",
       "1  Petrol  Individual       Manual   First Owner  \n",
       "2  Diesel  Individual       Manual   First Owner  \n",
       "3  Petrol  Individual       Manual   First Owner  \n",
       "4  Diesel  Individual       Manual  Second Owner  "
      ]
     },
     "execution_count": 4,
     "metadata": {},
     "output_type": "execute_result"
    }
   ],
   "source": [
    "#import data\n",
    "cs=pd.read_csv('dataporto/car_sell.csv')\n",
    "cs.head()"
   ]
  },
  {
   "cell_type": "code",
   "execution_count": 5,
   "id": "d0417501-c660-483a-a333-5e33dfd776de",
   "metadata": {},
   "outputs": [
    {
     "name": "stdout",
     "output_type": "stream",
     "text": [
      "<class 'pandas.core.frame.DataFrame'>\n",
      "RangeIndex: 4340 entries, 0 to 4339\n",
      "Data columns (total 9 columns):\n",
      " #   Column         Non-Null Count  Dtype  \n",
      "---  ------         --------------  -----  \n",
      " 0   Unnamed: 0     4340 non-null   int64  \n",
      " 1   name           4340 non-null   object \n",
      " 2   year           4030 non-null   float64\n",
      " 3   selling_price  4340 non-null   int64  \n",
      " 4   km_driven      4340 non-null   int64  \n",
      " 5   fuel           4340 non-null   object \n",
      " 6   seller_type    4340 non-null   object \n",
      " 7   transmission   4340 non-null   object \n",
      " 8   owner          4340 non-null   object \n",
      "dtypes: float64(1), int64(3), object(5)\n",
      "memory usage: 305.3+ KB\n"
     ]
    }
   ],
   "source": [
    "cs.info()"
   ]
  },
  {
   "cell_type": "markdown",
   "id": "-tb7B7VTqndQ",
   "metadata": {
    "id": "-tb7B7VTqndQ"
   },
   "source": [
    " ## Q1. Remove missing data\n",
    "\n",
    "Please remove the records that match ANY of the below two conditions in the csv file:\n",
    "\n",
    " * year is missing\n",
    " * fuel is 'none'\n",
    "\n",
    "__Display the DataFrame, counting number of Null values in each column, and print the length of the data__ before and after removing the missing data.  "
   ]
  },
  {
   "cell_type": "code",
   "execution_count": 7,
   "id": "4098a41e-3c32-42b1-979d-ce33238d4fa8",
   "metadata": {},
   "outputs": [
    {
     "name": "stdout",
     "output_type": "stream",
     "text": [
      "Number of Null values:\n",
      " Unnamed: 0         0\n",
      "name               0\n",
      "year             310\n",
      "selling_price      0\n",
      "km_driven          0\n",
      "fuel               0\n",
      "seller_type        0\n",
      "transmission       0\n",
      "owner              0\n",
      "dtype: int64\n",
      "Length of data before droping missing values: 4340\n"
     ]
    }
   ],
   "source": [
    "# Counting the number of Null\n",
    "null_counts = cs.isnull().sum()\n",
    "print(\"Number of Null values:\\n\", null_counts)\n",
    "\n",
    "# Length of the data before\n",
    "length_before = len(cs)\n",
    "print(\"Length of data before droping missing values:\", length_before)"
   ]
  },
  {
   "cell_type": "code",
   "execution_count": 8,
   "id": "5c28ec4c-1724-4444-b3f8-6684adde68bc",
   "metadata": {},
   "outputs": [
    {
     "name": "stdout",
     "output_type": "stream",
     "text": [
      "Number of Null values in every column:\n",
      " Unnamed: 0       0\n",
      "name             0\n",
      "year             0\n",
      "selling_price    0\n",
      "km_driven        0\n",
      "fuel             0\n",
      "seller_type      0\n",
      "transmission     0\n",
      "owner            0\n",
      "dtype: int64\n",
      "Length of data after removing : 4030\n"
     ]
    }
   ],
   "source": [
    "# Remove missing values\n",
    "cs_cleaned = cs.dropna()\n",
    "\n",
    "# Counting the number of Null values in every column\n",
    "null_counts1 = cs_cleaned.isnull().sum()\n",
    "print(\"Number of Null values in every column:\\n\", null_counts1)\n",
    "\n",
    "# Length of the data after removing missing values\n",
    "length_after = len(cs_cleaned)\n",
    "print(\"Length of data after removing :\", length_after)"
   ]
  },
  {
   "cell_type": "code",
   "execution_count": 9,
   "id": "5d15135b-761e-481c-ba7b-9a3426310ffe",
   "metadata": {},
   "outputs": [
    {
     "name": "stdout",
     "output_type": "stream",
     "text": [
      "(144, 9)\n"
     ]
    }
   ],
   "source": [
    "#count fuel is 'none' in data to make sure the data after droping none is true\n",
    "fuel0=cs_cleaned[cs_cleaned.fuel=='none']\n",
    "print(fuel0.shape)"
   ]
  },
  {
   "cell_type": "code",
   "execution_count": 10,
   "id": "4613218e-fd48-4c15-9707-2536f3b179c0",
   "metadata": {},
   "outputs": [
    {
     "data": {
      "text/html": [
       "<div>\n",
       "<style scoped>\n",
       "    .dataframe tbody tr th:only-of-type {\n",
       "        vertical-align: middle;\n",
       "    }\n",
       "\n",
       "    .dataframe tbody tr th {\n",
       "        vertical-align: top;\n",
       "    }\n",
       "\n",
       "    .dataframe thead th {\n",
       "        text-align: right;\n",
       "    }\n",
       "</style>\n",
       "<table border=\"1\" class=\"dataframe\">\n",
       "  <thead>\n",
       "    <tr style=\"text-align: right;\">\n",
       "      <th></th>\n",
       "      <th>Unnamed: 0</th>\n",
       "      <th>name</th>\n",
       "      <th>year</th>\n",
       "      <th>selling_price</th>\n",
       "      <th>km_driven</th>\n",
       "      <th>fuel</th>\n",
       "      <th>seller_type</th>\n",
       "      <th>transmission</th>\n",
       "      <th>owner</th>\n",
       "    </tr>\n",
       "  </thead>\n",
       "  <tbody>\n",
       "    <tr>\n",
       "      <th>0</th>\n",
       "      <td>0</td>\n",
       "      <td>Maruti 800 AC</td>\n",
       "      <td>2007.0</td>\n",
       "      <td>60000</td>\n",
       "      <td>70000</td>\n",
       "      <td>Petrol</td>\n",
       "      <td>Individual</td>\n",
       "      <td>Manual</td>\n",
       "      <td>First Owner</td>\n",
       "    </tr>\n",
       "    <tr>\n",
       "      <th>1</th>\n",
       "      <td>1</td>\n",
       "      <td>Maruti Wagon R LXI Minor</td>\n",
       "      <td>2007.0</td>\n",
       "      <td>135000</td>\n",
       "      <td>50000</td>\n",
       "      <td>Petrol</td>\n",
       "      <td>Individual</td>\n",
       "      <td>Manual</td>\n",
       "      <td>First Owner</td>\n",
       "    </tr>\n",
       "    <tr>\n",
       "      <th>2</th>\n",
       "      <td>2</td>\n",
       "      <td>Hyundai Verna 1.6 SX</td>\n",
       "      <td>2012.0</td>\n",
       "      <td>600000</td>\n",
       "      <td>100000</td>\n",
       "      <td>Diesel</td>\n",
       "      <td>Individual</td>\n",
       "      <td>Manual</td>\n",
       "      <td>First Owner</td>\n",
       "    </tr>\n",
       "    <tr>\n",
       "      <th>3</th>\n",
       "      <td>3</td>\n",
       "      <td>Datsun RediGO T Option</td>\n",
       "      <td>2017.0</td>\n",
       "      <td>250000</td>\n",
       "      <td>46000</td>\n",
       "      <td>Petrol</td>\n",
       "      <td>Individual</td>\n",
       "      <td>Manual</td>\n",
       "      <td>First Owner</td>\n",
       "    </tr>\n",
       "    <tr>\n",
       "      <th>4</th>\n",
       "      <td>4</td>\n",
       "      <td>Honda Amaze VX i-DTEC</td>\n",
       "      <td>2014.0</td>\n",
       "      <td>450000</td>\n",
       "      <td>141000</td>\n",
       "      <td>Diesel</td>\n",
       "      <td>Individual</td>\n",
       "      <td>Manual</td>\n",
       "      <td>Second Owner</td>\n",
       "    </tr>\n",
       "  </tbody>\n",
       "</table>\n",
       "</div>"
      ],
      "text/plain": [
       "   Unnamed: 0                      name    year  selling_price  km_driven  \\\n",
       "0           0             Maruti 800 AC  2007.0          60000      70000   \n",
       "1           1  Maruti Wagon R LXI Minor  2007.0         135000      50000   \n",
       "2           2      Hyundai Verna 1.6 SX  2012.0         600000     100000   \n",
       "3           3    Datsun RediGO T Option  2017.0         250000      46000   \n",
       "4           4     Honda Amaze VX i-DTEC  2014.0         450000     141000   \n",
       "\n",
       "     fuel seller_type transmission         owner  \n",
       "0  Petrol  Individual       Manual   First Owner  \n",
       "1  Petrol  Individual       Manual   First Owner  \n",
       "2  Diesel  Individual       Manual   First Owner  \n",
       "3  Petrol  Individual       Manual   First Owner  \n",
       "4  Diesel  Individual       Manual  Second Owner  "
      ]
     },
     "execution_count": 10,
     "metadata": {},
     "output_type": "execute_result"
    }
   ],
   "source": [
    "# Drop rows 'fuel' column has the value 'none'\n",
    "cs_cleaned = cs_cleaned[cs_cleaned['fuel'] != 'none']\n",
    "\n",
    "# Display the cleaned DataFrame\n",
    "cs_cleaned.head()"
   ]
  },
  {
   "cell_type": "code",
   "execution_count": 11,
   "id": "aa750b58-5819-4549-8854-417e0258c763",
   "metadata": {},
   "outputs": [
    {
     "name": "stdout",
     "output_type": "stream",
     "text": [
      "Length of the final data after removing year and fuel: 3886\n"
     ]
    }
   ],
   "source": [
    "#final lenght of the data after drom nan and none values in car sell data\n",
    "length_final = len(cs_cleaned)\n",
    "print(\"Length of the final data after removing year and fuel:\", length_final)"
   ]
  },
  {
   "cell_type": "markdown",
   "id": "EJG9_LEmqndR",
   "metadata": {
    "id": "EJG9_LEmqndR"
   },
   "source": [
    "## Q2. Descriptive statistics\n",
    "\n",
    "With the cleaned data in Q1, please provide the data summarization as below:\n",
    "\n",
    "* Q2.1 total number of unique name, unique seller_type, unique transmission, and unique owner\n",
    "* Q2.2 descriptive statistics, including the total number, mean, std, min and max regarding all km_driven\n",
    "* Q2.3 descriptive statistics, including mean, std, max, and min of the number of selling_price grouped by different seller_type\n",
    "* Q2.4 descriptive statistics, including mean, std, max, min of the number of years that sold by each owner type\n"
   ]
  },
  {
   "cell_type": "code",
   "execution_count": 13,
   "id": "01d347d2-020e-4941-b752-91c0d8297275",
   "metadata": {},
   "outputs": [],
   "source": [
    "#Q2.1 total number of unique name, unique seller_type, unique transmission, and unique owner --> nunique  count number of unique\n",
    "name_uni = cs_cleaned.name.nunique()\n",
    "seller_uni = cs_cleaned.seller_type.nunique()\n",
    "transmission_uni = cs_cleaned.transmission.nunique()\n",
    "owner_uni = cs_cleaned.owner.nunique()"
   ]
  },
  {
   "cell_type": "code",
   "execution_count": 14,
   "id": "70b4e393-6368-41c2-8c4c-7d299cda9eb6",
   "metadata": {},
   "outputs": [
    {
     "name": "stdout",
     "output_type": "stream",
     "text": [
      "Total number of names: 1402\n",
      "Total number of seller types: 3\n",
      "Total number of transmissions: 2\n",
      "Total number of owners: 5\n"
     ]
    }
   ],
   "source": [
    "# Print the results\n",
    "print(\"Total number of names:\", name_uni)\n",
    "print(\"Total number of seller types:\", seller_uni)\n",
    "print(\"Total number of transmissions:\", transmission_uni)\n",
    "print(\"Total number of owners:\", owner_uni)"
   ]
  },
  {
   "cell_type": "code",
   "execution_count": 15,
   "id": "30772e10-9a01-4f22-99f0-d5b40c81f9ad",
   "metadata": {},
   "outputs": [
    {
     "data": {
      "text/plain": [
       "count      3886.000000\n",
       "mean      66313.279207\n",
       "std       46679.603916\n",
       "min           1.000000\n",
       "25%       35000.000000\n",
       "50%       60000.000000\n",
       "75%       90000.000000\n",
       "max      806599.000000\n",
       "Name: km_driven, dtype: float64"
      ]
     },
     "execution_count": 15,
     "metadata": {},
     "output_type": "execute_result"
    }
   ],
   "source": [
    "#Q2.2 descriptive statistics, including the total number, mean, std, min and max regarding all km_drive\n",
    "cs_cleaned['km_driven'].describe()"
   ]
  },
  {
   "cell_type": "code",
   "execution_count": 16,
   "id": "eb24f60e-d06a-47ae-b15d-01f28a16a2fc",
   "metadata": {},
   "outputs": [
    {
     "data": {
      "text/html": [
       "<div>\n",
       "<style scoped>\n",
       "    .dataframe tbody tr th:only-of-type {\n",
       "        vertical-align: middle;\n",
       "    }\n",
       "\n",
       "    .dataframe tbody tr th {\n",
       "        vertical-align: top;\n",
       "    }\n",
       "\n",
       "    .dataframe thead th {\n",
       "        text-align: right;\n",
       "    }\n",
       "</style>\n",
       "<table border=\"1\" class=\"dataframe\">\n",
       "  <thead>\n",
       "    <tr style=\"text-align: right;\">\n",
       "      <th></th>\n",
       "      <th>seller_type</th>\n",
       "      <th>count</th>\n",
       "    </tr>\n",
       "  </thead>\n",
       "  <tbody>\n",
       "    <tr>\n",
       "      <th>0</th>\n",
       "      <td>Dealer</td>\n",
       "      <td>889</td>\n",
       "    </tr>\n",
       "    <tr>\n",
       "      <th>1</th>\n",
       "      <td>Individual</td>\n",
       "      <td>2903</td>\n",
       "    </tr>\n",
       "    <tr>\n",
       "      <th>2</th>\n",
       "      <td>Trustmark Dealer</td>\n",
       "      <td>94</td>\n",
       "    </tr>\n",
       "  </tbody>\n",
       "</table>\n",
       "</div>"
      ],
      "text/plain": [
       "        seller_type  count\n",
       "0            Dealer    889\n",
       "1        Individual   2903\n",
       "2  Trustmark Dealer     94"
      ]
     },
     "execution_count": 16,
     "metadata": {},
     "output_type": "execute_result"
    }
   ],
   "source": [
    "#Q2.3 descriptive statistics, including mean, std, max, and min of the number of selling_price grouped by different seller_type\n",
    "SP_x_ST = cs_cleaned.groupby(['seller_type'])['selling_price'].count().reset_index(name='count')\n",
    "SP_x_ST.head()"
   ]
  },
  {
   "cell_type": "code",
   "execution_count": 17,
   "id": "d43c1583-4e33-42eb-8b40-cd9863756f70",
   "metadata": {},
   "outputs": [
    {
     "data": {
      "text/plain": [
       "count       3.000000\n",
       "mean     1295.333333\n",
       "std      1447.912405\n",
       "min        94.000000\n",
       "25%       491.500000\n",
       "50%       889.000000\n",
       "75%      1896.000000\n",
       "max      2903.000000\n",
       "Name: count, dtype: float64"
      ]
     },
     "execution_count": 17,
     "metadata": {},
     "output_type": "execute_result"
    }
   ],
   "source": [
    "SP_x_ST['count'].describe()"
   ]
  },
  {
   "cell_type": "code",
   "execution_count": 18,
   "id": "b460c517-d409-482a-bc1c-f12496cf2ef0",
   "metadata": {},
   "outputs": [
    {
     "data": {
      "text/html": [
       "<div>\n",
       "<style scoped>\n",
       "    .dataframe tbody tr th:only-of-type {\n",
       "        vertical-align: middle;\n",
       "    }\n",
       "\n",
       "    .dataframe tbody tr th {\n",
       "        vertical-align: top;\n",
       "    }\n",
       "\n",
       "    .dataframe thead th {\n",
       "        text-align: right;\n",
       "    }\n",
       "</style>\n",
       "<table border=\"1\" class=\"dataframe\">\n",
       "  <thead>\n",
       "    <tr style=\"text-align: right;\">\n",
       "      <th></th>\n",
       "      <th>owner</th>\n",
       "      <th>count</th>\n",
       "    </tr>\n",
       "  </thead>\n",
       "  <tbody>\n",
       "    <tr>\n",
       "      <th>0</th>\n",
       "      <td>First Owner</td>\n",
       "      <td>2532</td>\n",
       "    </tr>\n",
       "    <tr>\n",
       "      <th>1</th>\n",
       "      <td>Fourth &amp; Above Owner</td>\n",
       "      <td>67</td>\n",
       "    </tr>\n",
       "    <tr>\n",
       "      <th>2</th>\n",
       "      <td>Second Owner</td>\n",
       "      <td>1000</td>\n",
       "    </tr>\n",
       "    <tr>\n",
       "      <th>3</th>\n",
       "      <td>Test Drive Car</td>\n",
       "      <td>14</td>\n",
       "    </tr>\n",
       "    <tr>\n",
       "      <th>4</th>\n",
       "      <td>Third Owner</td>\n",
       "      <td>273</td>\n",
       "    </tr>\n",
       "  </tbody>\n",
       "</table>\n",
       "</div>"
      ],
      "text/plain": [
       "                  owner  count\n",
       "0           First Owner   2532\n",
       "1  Fourth & Above Owner     67\n",
       "2          Second Owner   1000\n",
       "3        Test Drive Car     14\n",
       "4           Third Owner    273"
      ]
     },
     "execution_count": 18,
     "metadata": {},
     "output_type": "execute_result"
    }
   ],
   "source": [
    "#Q2.4 descriptive statistics, including mean, std, max, min of the number of years that sold by each owner type\n",
    "Owner_x_Years = cs_cleaned.groupby(['owner'])['year'].count().reset_index(name='count')\n",
    "Owner_x_Years.head()"
   ]
  },
  {
   "cell_type": "code",
   "execution_count": 19,
   "id": "3563acea-2eb4-44bf-9e0a-47100e92619c",
   "metadata": {},
   "outputs": [
    {
     "data": {
      "text/plain": [
       "count       5.000000\n",
       "mean      777.200000\n",
       "std      1057.123314\n",
       "min        14.000000\n",
       "25%        67.000000\n",
       "50%       273.000000\n",
       "75%      1000.000000\n",
       "max      2532.000000\n",
       "Name: count, dtype: float64"
      ]
     },
     "execution_count": 19,
     "metadata": {},
     "output_type": "execute_result"
    }
   ],
   "source": [
    "Owner_x_Years['count'].describe()"
   ]
  },
  {
   "cell_type": "markdown",
   "id": "PISggxe5qndR",
   "metadata": {
    "id": "PISggxe5qndR"
   },
   "source": [
    "## Q3. Plotting and Analysis\n",
    "\n",
    "Please try to explore the correlation between fuel/year/seller_type/transmission/owner and selling_price; for instance, do First Owner cars tend to sell higher prices than second owner cars? Hint: you may use the boxplot function to plot figures for comparison\n",
    "    \n",
    "You may need to select the most suitable graphic forms for ease of presentation. Most importantly, for each figure or subfigure, please summarise ___what each plot shows___ (i.e. observations and explanations). Finally, you are required to provide an overall summary of your findings from the plots you generated."
   ]
  },
  {
   "cell_type": "code",
   "execution_count": 21,
   "id": "f00c6661-6ab8-477b-8ae2-d687e9ee685f",
   "metadata": {},
   "outputs": [],
   "source": [
    "# import package\n",
    "import seaborn as sns"
   ]
  },
  {
   "cell_type": "code",
   "execution_count": 22,
   "id": "ac50b04f-2713-4133-9776-08859d0d8c25",
   "metadata": {},
   "outputs": [
    {
     "data": {
      "image/png": "[encoded data removed]",
      "text/plain": [
       "<Figure size 640x480 with 1 Axes>"
      ]
     },
     "metadata": {},
     "output_type": "display_data"
    }
   ],
   "source": [
    "# Boxplot of selling price by fuel\n",
    "sns.boxplot(x='fuel', y='selling_price', data=cs_cleaned)\n",
    "plt.title('Boxplot of selling price by fuel')\n",
    "plt.show()"
   ]
  },
  {
   "cell_type": "code",
   "execution_count": 23,
   "id": "b487a9c8-0b3e-4f53-b820-779d90533c48",
   "metadata": {},
   "outputs": [
    {
     "data": {
      "image/png": "[encoded data removed]",
      "text/plain": [
       "<Figure size 640x480 with 1 Axes>"
      ]
     },
     "metadata": {},
     "output_type": "display_data"
    }
   ],
   "source": [
    "# Boxplot of selling price by year\n",
    "sns.boxplot(x='year', y='selling_price', data=cs_cleaned)\n",
    "plt.title('Boxplot of selling price by year')\n",
    "plt.xticks(rotation=45) \n",
    "plt.show()"
   ]
  },
  {
   "cell_type": "code",
   "execution_count": 24,
   "id": "756d5fe8-bf7f-4e43-a665-da1f3dcb2194",
   "metadata": {
    "scrolled": true
   },
   "outputs": [
    {
     "data": {
      "image/png": "[encoded data removed]",
      "text/plain": [
       "<Figure size 640x480 with 1 Axes>"
      ]
     },
     "metadata": {},
     "output_type": "display_data"
    }
   ],
   "source": [
    "# Boxplot of selling price by seller type\n",
    "sns.boxplot(x='seller_type', y='selling_price', data=cs_cleaned)\n",
    "plt.title('Boxplot of selling price by seller type')\n",
    "plt.show()"
   ]
  },
  {
   "cell_type": "code",
   "execution_count": 25,
   "id": "3f81b885-7503-4e0b-9c87-2802e53255d9",
   "metadata": {},
   "outputs": [
    {
     "data": {
      "image/png": "[encoded data removed]",
      "text/plain": [
       "<Figure size 640x480 with 1 Axes>"
      ]
     },
     "metadata": {},
     "output_type": "display_data"
    }
   ],
   "source": [
    "# Boxplot of selling price by transmission\n",
    "sns.boxplot(x='transmission', y='selling_price', data=cs_cleaned)\n",
    "plt.title('Boxplot of selling price by transmission')\n",
    "plt.show()"
   ]
  },
  {
   "cell_type": "code",
   "execution_count": 26,
   "id": "24565673-c689-4763-a026-e5065fc548d0",
   "metadata": {},
   "outputs": [
    {
     "data": {
      "image/png": "[encoded data removed]",
      "text/plain": [
       "<Figure size 640x480 with 1 Axes>"
      ]
     },
     "metadata": {},
     "output_type": "display_data"
    }
   ],
   "source": [
    "# Boxplot of selling price by owner\n",
    "sns.boxplot(x='owner', y='selling_price', data=cs_cleaned)\n",
    "plt.title('Boxplot of selling price by owner')\n",
    "plt.xticks(rotation=45) \n",
    "plt.show()"
   ]
  },
  {
   "cell_type": "markdown",
   "id": "dbc845aa-b6f3-40a4-8e68-e90ed0d57130",
   "metadata": {},
   "source": [
    "# Explanation\n",
    "\n",
    "## Figure 1 Boxplot of selling price by fuel\n",
    "\n",
    "The first figure shows that the type of fuel has a big impact on how much a car costs to sell, with petrol and diesel cars being more expensive and less reliable than other fuel types.\n",
    "\n",
    "## Figure 2 Boxplot of selling price by year\n",
    "\n",
    "The boxplot illustrates how car sales prices have been rising over time. In general, the selling prices of recent model year vehicles are higher than those of older models.\n",
    "\n",
    "## Figure 3 Boxplot of selling price by seller type\n",
    "\n",
    "The selling prices of individual sellers and dealers are more unpredictable, with some expensive vehicles producing outliers.\n",
    "The selling proces of trustmark dealler are more predicted. Because they concentrate on selling standardized or approved vehicles, trusted dealers tend to have more stable prices. \n",
    "\n",
    "## Figure 4 Boxplot of selling price by transmission\n",
    "\n",
    "Manual cars are typically more reasonably priced and have more stable prices, making them an excellent choice for purchasers on a tight budget. In contrast, automatic cars are typically more expensive and exhibit more price fluctuation.\n",
    "\n",
    "## Figure 5 Boxplot of selling price by owner\n",
    "\n",
    "Cars with fewer prior owners typically sell for more money, with first-owner automobiles commanding the highest prices. The selling price often declines with the number of prior owners. However, test-drive cars continue to command rather premium prices, probably because of their low mileage and good condition.\n",
    "\n",
    "## Overall summary\n",
    "A car's selling price is determined by a number of elements, such as the fuel type, manufacturer's year, seller type, type of transmission, and number of prior owners. First-owner, automatic trensmission, newer cars are typically more expensive and less predictable, especially when they are offered by Trustmark dealers. Contrarily, older, manual, and multi-owner vehicles tend to be more reasonably priced, but due of their high number of outliers, their selling prices vary widely."
   ]
  },
  {
   "cell_type": "markdown",
   "id": "399313a6-edc5-48f4-bf83-16365e62d6c0",
   "metadata": {},
   "source": [
    "## Q4. Detect and remove outliers\n",
    "\n",
    "We define car sale records WITHOUT following ANY of the below three rules as outliers:\n",
    "\n",
    "1. owner to be first, second and third owner only\n",
    "2. Fuel to be Diesel or Petrol only\n",
    "3. Seller_type to be dealer or individual only\n",
    "\n",
    "Please remove the corresponding records in the csv file that is not qualified with the rules. After that, __print the length of the data__."
   ]
  },
  {
   "cell_type": "code",
   "execution_count": 90,
   "id": "d89af6d5-6447-45b1-8a36-e7749d5e7515",
   "metadata": {},
   "outputs": [
    {
     "name": "stdout",
     "output_type": "stream",
     "text": [
      "The final length of the data after removing outlier: 3657\n"
     ]
    }
   ],
   "source": [
    "#remove other data\n",
    "filtered_cs = cs_cleaned[\n",
    "    (cs_cleaned['owner'].isin(['First Owner', 'Second Owner', 'Third Owner'])) &\n",
    "    (cs_cleaned['fuel'].isin([ 'Petrol','Diesel'])) &\n",
    "    (cs_cleaned['seller_type'].isin(['Individual','Dealer']))\n",
    "]\n",
    "\n",
    "# Print the length of data\n",
    "filtered_length = len(filtered_cs)\n",
    "print(\"The final length of the data after removing outlier:\", filtered_length)"
   ]
  },
  {
   "cell_type": "code",
   "execution_count": 78,
   "id": "5b56d4d2-0979-4080-90e9-e4bb5dbaffef",
   "metadata": {},
   "outputs": [
    {
     "data": {
      "text/html": [
       "<div>\n",
       "<style scoped>\n",
       "    .dataframe tbody tr th:only-of-type {\n",
       "        vertical-align: middle;\n",
       "    }\n",
       "\n",
       "    .dataframe tbody tr th {\n",
       "        vertical-align: top;\n",
       "    }\n",
       "\n",
       "    .dataframe thead th {\n",
       "        text-align: right;\n",
       "    }\n",
       "</style>\n",
       "<table border=\"1\" class=\"dataframe\">\n",
       "  <thead>\n",
       "    <tr style=\"text-align: right;\">\n",
       "      <th></th>\n",
       "      <th>Unnamed: 0</th>\n",
       "      <th>name</th>\n",
       "      <th>year</th>\n",
       "      <th>selling_price</th>\n",
       "      <th>km_driven</th>\n",
       "      <th>fuel</th>\n",
       "      <th>seller_type</th>\n",
       "      <th>transmission</th>\n",
       "      <th>owner</th>\n",
       "    </tr>\n",
       "  </thead>\n",
       "  <tbody>\n",
       "    <tr>\n",
       "      <th>0</th>\n",
       "      <td>0</td>\n",
       "      <td>Maruti 800 AC</td>\n",
       "      <td>2007.0</td>\n",
       "      <td>60000</td>\n",
       "      <td>70000</td>\n",
       "      <td>Petrol</td>\n",
       "      <td>Individual</td>\n",
       "      <td>Manual</td>\n",
       "      <td>First Owner</td>\n",
       "    </tr>\n",
       "    <tr>\n",
       "      <th>1</th>\n",
       "      <td>1</td>\n",
       "      <td>Maruti Wagon R LXI Minor</td>\n",
       "      <td>2007.0</td>\n",
       "      <td>135000</td>\n",
       "      <td>50000</td>\n",
       "      <td>Petrol</td>\n",
       "      <td>Individual</td>\n",
       "      <td>Manual</td>\n",
       "      <td>First Owner</td>\n",
       "    </tr>\n",
       "    <tr>\n",
       "      <th>2</th>\n",
       "      <td>2</td>\n",
       "      <td>Hyundai Verna 1.6 SX</td>\n",
       "      <td>2012.0</td>\n",
       "      <td>600000</td>\n",
       "      <td>100000</td>\n",
       "      <td>Diesel</td>\n",
       "      <td>Individual</td>\n",
       "      <td>Manual</td>\n",
       "      <td>First Owner</td>\n",
       "    </tr>\n",
       "    <tr>\n",
       "      <th>3</th>\n",
       "      <td>3</td>\n",
       "      <td>Datsun RediGO T Option</td>\n",
       "      <td>2017.0</td>\n",
       "      <td>250000</td>\n",
       "      <td>46000</td>\n",
       "      <td>Petrol</td>\n",
       "      <td>Individual</td>\n",
       "      <td>Manual</td>\n",
       "      <td>First Owner</td>\n",
       "    </tr>\n",
       "    <tr>\n",
       "      <th>4</th>\n",
       "      <td>4</td>\n",
       "      <td>Honda Amaze VX i-DTEC</td>\n",
       "      <td>2014.0</td>\n",
       "      <td>450000</td>\n",
       "      <td>141000</td>\n",
       "      <td>Diesel</td>\n",
       "      <td>Individual</td>\n",
       "      <td>Manual</td>\n",
       "      <td>Second Owner</td>\n",
       "    </tr>\n",
       "  </tbody>\n",
       "</table>\n",
       "</div>"
      ],
      "text/plain": [
       "   Unnamed: 0                      name    year  selling_price  km_driven  \\\n",
       "0           0             Maruti 800 AC  2007.0          60000      70000   \n",
       "1           1  Maruti Wagon R LXI Minor  2007.0         135000      50000   \n",
       "2           2      Hyundai Verna 1.6 SX  2012.0         600000     100000   \n",
       "3           3    Datsun RediGO T Option  2017.0         250000      46000   \n",
       "4           4     Honda Amaze VX i-DTEC  2014.0         450000     141000   \n",
       "\n",
       "     fuel seller_type transmission         owner  \n",
       "0  Petrol  Individual       Manual   First Owner  \n",
       "1  Petrol  Individual       Manual   First Owner  \n",
       "2  Diesel  Individual       Manual   First Owner  \n",
       "3  Petrol  Individual       Manual   First Owner  \n",
       "4  Diesel  Individual       Manual  Second Owner  "
      ]
     },
     "execution_count": 78,
     "metadata": {},
     "output_type": "execute_result"
    }
   ],
   "source": [
    "filtered_cs.head()"
   ]
  },
  {
   "cell_type": "code",
   "execution_count": 92,
   "id": "26140a3e-d12e-4dc9-bd34-1a14ab0f9021",
   "metadata": {},
   "outputs": [
    {
     "data": {
      "text/plain": [
       "array(['First Owner', 'Second Owner', 'Third Owner'], dtype=object)"
      ]
     },
     "execution_count": 92,
     "metadata": {},
     "output_type": "execute_result"
    }
   ],
   "source": [
    "filtered_cs.owner.unique()"
   ]
  },
  {
   "cell_type": "code",
   "execution_count": 94,
   "id": "9e4237d9-745b-4da3-b2f0-c36204c11482",
   "metadata": {},
   "outputs": [
    {
     "data": {
      "text/plain": [
       "array(['Petrol', 'Diesel'], dtype=object)"
      ]
     },
     "execution_count": 94,
     "metadata": {},
     "output_type": "execute_result"
    }
   ],
   "source": [
    "filtered_cs.fuel.unique()"
   ]
  },
  {
   "cell_type": "code",
   "execution_count": 96,
   "id": "a6a635aa-9f1f-4ff1-8cb3-8d798b73006c",
   "metadata": {},
   "outputs": [
    {
     "data": {
      "text/plain": [
       "array(['Individual', 'Dealer'], dtype=object)"
      ]
     },
     "execution_count": 96,
     "metadata": {},
     "output_type": "execute_result"
    }
   ],
   "source": [
    "filtered_cs.seller_type.unique()"
   ]
  }
 ],
 "metadata": {
  "colab": {
   "provenance": []
  },
  "kernelspec": {
   "display_name": "Python 3 (ipykernel)",
   "language": "python",
   "name": "python3"
  },
  "language_info": {
   "codemirror_mode": {
    "name": "ipython",
    "version": 3
   },
   "file_extension": ".py",
   "mimetype": "text/x-python",
   "name": "python",
   "nbconvert_exporter": "python",
   "pygments_lexer": "ipython3",
   "version": "3.12.4"
  }
 },
 "nbformat": 4,
 "nbformat_minor": 5
}
